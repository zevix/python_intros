{
 "cells": [
  {
   "cell_type": "code",
   "execution_count": 1,
   "metadata": {
    "collapsed": false
   },
   "outputs": [
    {
     "name": "stdout",
     "output_type": "stream",
     "text": [
      " _   _      _ _         ____        _   _                 \n",
      "| | | | ___| | | ___   |  _ \\ _   _| |_| |__   ___  _ __  \n",
      "| |_| |/ _ \\ | |/ _ \\  | |_) | | | | __| '_ \\ / _ \\| '_ \\ \n",
      "|  _  |  __/ | | (_) | |  __/| |_| | |_| | | | (_) | | | |\n",
      "|_| |_|\\___|_|_|\\___/  |_|    \\__, |\\__|_| |_|\\___/|_| |_|\n",
      "                              |___/                       \n",
      "\n",
      "General\n",
      "=======\n",
      "- Scripting language with intermediate compiled mode (like java)\n",
      "\n",
      "- The script engine is the compiler, software is distrubuted as source usually, auto-compiles\n",
      "\n",
      "\n",
      "Whats great?\n",
      "----------\n",
      "- Simple syntax, easy to learn, use and understand\n",
      "\n",
      "- Interpreter mode\n",
      "\n",
      "- Strong memory/data structures management\n",
      "\n",
      "- Cross platform\n",
      "\n",
      "- Modules for EVERYTHING - I/O, net, db, algorithms\n",
      "\n",
      "\n",
      "Bad parts\n",
      "---------\n",
      "- Slower than C++, slightly behind Java\n",
      "\n",
      "- Sensitive to syntax and naming erors\n"
     ]
    }
   ],
   "source": [
    "'''\n",
    "\n",
    "----------------------------------\n",
    "Python 2 introduction @ EarlySense\n",
    "        #1  2-June-2016 \n",
    "        #2 30-Mar-2017\n",
    "----------------------------------\n",
    "\n",
    "# download python from: http://python.org\n",
    " - Recommended: 2.7.X 32 bit\n",
    "\n",
    "# To allow easy installation of native (C) packages:\n",
    "\n",
    " - Windows: download https://www.microsoft.com/en-us/download/details.aspx?id=44266\n",
    " \n",
    " - Linux: apt-get install python2.7-dev\n",
    "          OR yum install python27-devel.x86_64\n",
    "\n",
    "\n",
    "# Additional packages used here can be installed by:\n",
    "\n",
    "python -m ensurepip\n",
    "\n",
    "pip install pyfiglet\n",
    "\n",
    "pip install bpython # cygwin and linux only, the colorful auto-complete shell\n",
    "\n",
    "\n",
    "# jython can be downloaded from http://jython.org\n",
    "\n",
    "# the eclipse plygin is called \"pydev\" and can be found in the eclipse marketplace\n",
    "-- Then Window -> Preferences -> Pydev / Interpreters / Python Interpreter > Quick Auto Config\n",
    "\n",
    "\n",
    "# for  (running this ipython notebook file)\n",
    "pip install pyzmq jinja2 tornado mistune jsonschema pygments terminado notebook ipywidgets\n",
    "\n",
    "# for the html table and graph examples:\n",
    "pip install pandas matplotlib\n",
    "\n",
    "# to run jupyter:\n",
    "// copy the .ipynb file to yor home dir (e.g. c:\\users\\your.name)\n",
    "jupyter notebook\n",
    "\n",
    "'''\n",
    "\n",
    "import pyfiglet\n",
    "print pyfiglet.figlet_format('Hello Python')\n",
    "print '47656e6572616c0a3d3d3d3d3d3d3d0a2d20536372697074696e67206c616e6775616765207769746820696e7465726d65646961746520636f6d70696c6564206d6f646520286c696b65206a617661290a0a2d205468652073637269707420656e67696e652069732074686520636f6d70696c65722c20736f66747761726520697320646973747275627574656420617320736f7572636520757375616c6c792c206175746f2d636f6d70696c65730a0a0a57686174732067726561743f0a2d2d2d2d2d2d2d2d2d2d0a2d2053696d706c652073796e7461782c206561737920746f206c6561726e2c2075736520616e6420756e6465727374616e640a0a2d20496e746572707265746572206d6f64650a0a2d205374726f6e67206d656d6f72792f646174612073747275637475726573206d616e6167656d656e740a0a2d2043726f737320706c6174666f726d0a0a2d204d6f64756c657320666f722045564552595448494e47202d20492f4f2c206e65742c2064622c20616c676f726974686d730a0a0a4261642070617274730a2d2d2d2d2d2d2d2d2d0a2d20536c6f776572207468616e20432b2b2c20736c696768746c7920626568696e64204a6176610a0a2d2053656e73697469766520746f2073796e74617820616e64206e616d696e672065726f7273' \\\n",
    ".decode('hex')"
   ]
  },
  {
   "cell_type": "code",
   "execution_count": 2,
   "metadata": {
    "collapsed": false
   },
   "outputs": [
    {
     "data": {
      "text/plain": [
       "0"
      ]
     },
     "execution_count": 2,
     "metadata": {},
     "output_type": "execute_result"
    }
   ],
   "source": [
    "import os\n",
    "os.system('start http://www.skulpt.org') \n",
    "\n",
    "# See also:\n",
    "#  http://repl.it\n",
    "#  http://pypyjs.org"
   ]
  },
  {
   "cell_type": "code",
   "execution_count": 3,
   "metadata": {
    "collapsed": false
   },
   "outputs": [
    {
     "data": {
      "text/plain": [
       "0"
      ]
     },
     "execution_count": 3,
     "metadata": {},
     "output_type": "execute_result"
    }
   ],
   "source": [
    "os.system(r'start C:\\jython2.7.0\\bin\\jython.exe')"
   ]
  },
  {
   "cell_type": "code",
   "execution_count": 4,
   "metadata": {
    "collapsed": false
   },
   "outputs": [],
   "source": [
    "# Hello World...\n",
    "# - python -c \"print 'Hello World'\"\n",
    "# \n",
    "\n",
    "'''\n",
    "___________§§§§§§§§§§§§§§§§§§§\n",
    "__________§§§§§§§§§§§§§§§§§§§§§§§§\n",
    "________§§§§§§§§§§§§§§§§§§§§§§§§§§§§\n",
    "______§§§$§§§§§§_________§§§§§§§§§§§§\n",
    "______§§$§$§§§§______________§§§§§§§§§\n",
    "_____§§$§§$§§§________________§§§§§§§§\n",
    "____§§$§§§§$§§§_______________§§§§§§§§\n",
    "___§§$§§§§$§§§§_______________§§§§§§§§\n",
    "___§§§$§§$§§§§_______________§§§§§§§§§\n",
    "___Ø§§§$§§§Ø§_______________§§§§§§§§§\n",
    "___§§§$§$§§§_______________§§§§§§§§§\n",
    "___ §§§§§§§_______________§§§§§§§§§\n",
    "___§§§§§§§_______________§§§§§§§§§\n",
    "____§§§§_______________§§§§§§§§§§\n",
    "_____$_______________§§§§§§§§§§§\n",
    "____$______________§§§§§§§§§§§\n",
    "____$____________§§§§§§§§§§§\n",
    "___$___________§§§§§§§§§§§\n",
    "__$_$________§§§§§§§§§§§\n",
    "___________§§§§§§§§§§§\n",
    "_________§§§§§§§§§§§\n",
    "_______§§§§§§§§§§§\n",
    "_____§§§§§§§§§§§\n",
    "___§§§§§§§§§§§\n",
    "__§§§§§§§§§§§\n",
    "\n",
    "\n",
    "'''\n",
    "None"
   ]
  },
  {
   "cell_type": "code",
   "execution_count": 5,
   "metadata": {
    "collapsed": false
   },
   "outputs": [
    {
     "data": {
      "text/html": [
       "<table border=\"1\" class=\"dataframe\">\n",
       "  <tbody>\n",
       "    <tr>\n",
       "      <td>Java</td>\n",
       "      <td>Python</td>\n",
       "    </tr>\n",
       "    <tr>\n",
       "      <td>James Gosling</td>\n",
       "      <td>Guido van Rossum</td>\n",
       "    </tr>\n",
       "    <tr>\n",
       "      <td>From C++/Oak</td>\n",
       "      <td>From C, ABC</td>\n",
       "    </tr>\n",
       "    <tr>\n",
       "      <td>1.0 - Jan 1996</td>\n",
       "      <td>1.0 - Jan 1994</td>\n",
       "    </tr>\n",
       "    <tr>\n",
       "      <td>8.0 - Mar 2014</td>\n",
       "      <td>3.4 - Mar 2014</td>\n",
       "    </tr>\n",
       "    <tr>\n",
       "      <td>JSR</td>\n",
       "      <td>PEP</td>\n",
       "    </tr>\n",
       "    <tr>\n",
       "      <td>Commercial</td>\n",
       "      <td>Community</td>\n",
       "    </tr>\n",
       "    <tr>\n",
       "      <td>.java</td>\n",
       "      <td>.py</td>\n",
       "    </tr>\n",
       "    <tr>\n",
       "      <td>.class</td>\n",
       "      <td>.pyc</td>\n",
       "    </tr>\n",
       "    <tr>\n",
       "      <td>java.exe + javac.exe</td>\n",
       "      <td>python.exe</td>\n",
       "    </tr>\n",
       "    <tr>\n",
       "      <td>IntelliJ IDEA</td>\n",
       "      <td>PyCharm</td>\n",
       "    </tr>\n",
       "    <tr>\n",
       "      <td>Eclipse JDT</td>\n",
       "      <td>PyDev</td>\n",
       "    </tr>\n",
       "    <tr>\n",
       "      <td></td>\n",
       "      <td>Visual Studio (Community)</td>\n",
       "    </tr>\n",
       "    <tr>\n",
       "      <td>Strict Typing</td>\n",
       "      <td>Dynamic Typing</td>\n",
       "    </tr>\n",
       "  </tbody>\n",
       "</table>"
      ],
      "text/plain": [
       "<IPython.core.display.HTML object>"
      ]
     },
     "execution_count": 5,
     "metadata": {},
     "output_type": "execute_result"
    }
   ],
   "source": [
    "import pandas\n",
    "from IPython.display import HTML\n",
    "HTML(eval('70616e6461732e446174614672616d65285b782e73706c697428277e272920666f72207820696e2020274a6176617e507974686f6e7c4a616d657320476f736c696e677e477569646f2076616e20526f7373756d7c46726f6d20432b2b2f4f616b7e46726f6d20432c204142437c312e30202d204a616e20313939367e312e30202d204a616e20313939347c382e30202d204d617220323031347e332e34202d204d617220323031347c4a53527e5045507c436f6d6d65726369616c7e436f6d6d756e6974797c2e6a6176617e2e70797c2e636c6173737e2e7079637c6a6176612e657865202b206a617661632e6578657e707974686f6e2e6578657c496e74656c6c694a20494445417e5079436861726d7c45636c69707365204a44547e50794465767c7e56697375616c2053747564696f2028436f6d6d756e697479297c53747269637420547970696e677e44796e616d696320547970696e67272e73706c697428277c27295d292e746f5f68746d6c286865616465723d46616c7365202c20696e6465783d46616c736529'.decode('hex')))"
   ]
  },
  {
   "cell_type": "code",
   "execution_count": 6,
   "metadata": {
    "collapsed": false
   },
   "outputs": [],
   "source": [
    "_='''\n",
    " ____                    _              \n",
    "|  _ \\ _   _ _ __  _ __ (_)_ __   __ _ \n",
    "| |_) | | | | '_ \\| '_ \\| | '_ \\ / _` | \n",
    "|  _ <| |_| | | | | | | | | | | | (_| | \n",
    "|_| \\_\\\\__,_|_| |_|_| |_|_|_| |_|\\__, |\n",
    "Python                           |___/ \n",
    "\n",
    "\n",
    "- Interactive (python, iPython, bpython, jython\n",
    "- Eclipse, Visual Studio, idle, netbeans, pythonwin, comodo,..., \n",
    "- python script.py\n",
    "- Linux #!/usr/bin/python\n",
    "\n",
    "'''\n"
   ]
  },
  {
   "cell_type": "code",
   "execution_count": 7,
   "metadata": {
    "collapsed": false
   },
   "outputs": [
    {
     "name": "stdout",
     "output_type": "stream",
     "text": [
      " ____              _\n",
      "/ ___| _   _ _ __ | |_ __ ___  __\n",
      "\\___ \\| | | | '_ \\| __/ _` \\ \\/ / \n",
      " ___) | |_| | | | | || (_| |>  < \n",
      "|____/ \\__, |_| |_|\\__\\__,_/_/\\_\\ \n",
      "       |___/ \n",
      "\n"
     ]
    }
   ],
   "source": [
    "print '205f5f5f5f20202020202020202020202020205f0a2f205f5f5f7c205f2020205f205f205f5f207c207c5f205f5f205f5f5f20205f5f0a5c5f5f5f205c7c207c207c207c20275f205c7c205f5f2f205f60205c205c2f202f200a205f5f5f29207c207c5f7c207c207c207c207c207c7c20285f7c207c3e20203c200a7c5f5f5f5f2f205c5f5f2c207c5f7c207c5f7c5c5f5f5c5f5f2c5f2f5f2f5c5f5c200a202020202020207c5f5f5f2f200a'\\\n",
    ".decode('hex')"
   ]
  },
  {
   "cell_type": "code",
   "execution_count": 8,
   "metadata": {
    "collapsed": false,
    "slideshow": {
     "slide_type": "slide"
    }
   },
   "outputs": [
    {
     "name": "stdout",
     "output_type": "stream",
     "text": [
      "80\n"
     ]
    }
   ],
   "source": [
    "# Syntax of variable names, operators, function calls similar to C\n",
    "x=5;\n",
    "x=4\n",
    "print x * 20"
   ]
  },
  {
   "cell_type": "code",
   "execution_count": 9,
   "metadata": {
    "collapsed": false,
    "slideshow": {
     "slide_type": "slide"
    }
   },
   "outputs": [
    {
     "name": "stdout",
     "output_type": "stream",
     "text": [
      "2\n"
     ]
    }
   ],
   "source": [
    "# Type is determined on assignment\n",
    "x=5\n",
    "print x/2"
   ]
  },
  {
   "cell_type": "code",
   "execution_count": 10,
   "metadata": {
    "collapsed": false
   },
   "outputs": [
    {
     "name": "stdout",
     "output_type": "stream",
     "text": [
      "2.5\n"
     ]
    }
   ],
   "source": [
    "x=5.0\n",
    "print x/2\n",
    "del x"
   ]
  },
  {
   "cell_type": "code",
   "execution_count": 11,
   "metadata": {
    "collapsed": false
   },
   "outputs": [
    {
     "name": "stdout",
     "output_type": "stream",
     "text": [
      "9\n"
     ]
    }
   ],
   "source": [
    "print (0x100).bit_length() # Everything is an object"
   ]
  },
  {
   "cell_type": "code",
   "execution_count": 12,
   "metadata": {
    "collapsed": false
   },
   "outputs": [
    {
     "name": "stdout",
     "output_type": "stream",
     "text": [
      "Not\n",
      "Really\n"
     ]
    }
   ],
   "source": [
    "x = -101\n",
    "# Blocking by indentation !\n",
    "if x > 100:\n",
    "        print 'Big'\n",
    "else:\n",
    "# Ignore me\n",
    "    print \"Not\"\n",
    "    print \"Really\""
   ]
  },
  {
   "cell_type": "code",
   "execution_count": 13,
   "metadata": {
    "collapsed": false
   },
   "outputs": [
    {
     "name": "stdout",
     "output_type": "stream",
     "text": [
      "<type 'str'>\n",
      "<type 'unicode'>\n",
      "A\n",
      "B\n",
      "C\n",
      "שלום\n",
      "'\\xd7\\xa9\\xd7\\x9c\\xd7\\x95\\xd7\\x9d'\n",
      "hello to theworld\n",
      "hello\n"
     ]
    }
   ],
   "source": [
    "# Strings with ' or \", multi line strings with \"\"\" (also used for long comments), u'unicode string'\n",
    "print type('i am a \"string\"')\n",
    "print type(u'2')\n",
    "\n",
    "print '''A\n",
    "B\n",
    "C'''\n",
    "\n",
    "print \"שלום\"\n",
    "print `\"שלום\"`\n",
    "\n",
    "print 'hello ' 'to the'\\\n",
    "       'world'\n",
    "    \n",
    "exec('print \"hello\"')\n"
   ]
  },
  {
   "cell_type": "code",
   "execution_count": 14,
   "metadata": {
    "collapsed": false
   },
   "outputs": [
    {
     "name": "stdout",
     "output_type": "stream",
     "text": [
      "12\n",
      "12L\n",
      "10000000000000000000000000000000000000000000000000000000000000000000000000000000000000000000000000000000000000\n",
      "1e+62\n"
     ]
    },
    {
     "data": {
      "text/plain": [
       "True"
      ]
     },
     "execution_count": 14,
     "metadata": {},
     "output_type": "execute_result"
    }
   ],
   "source": [
    "# Long integers - 12L, hex 0xabc, Octal 07777 == 0xFFFF\n",
    "print 12L\n",
    "print `12L`\n",
    "print 10000000000000000000000000000000000000000000000000000000000000000000000000000000000000000000000000000000000000\n",
    "print 100000000000000000000000000000000000000000000000000000000000000.00000000000000000000000000000000000000000000000\n",
    "\n",
    "(0xFFFF) is 0177777"
   ]
  },
  {
   "cell_type": "code",
   "execution_count": 15,
   "metadata": {
    "collapsed": false
   },
   "outputs": [
    {
     "name": "stdout",
     "output_type": "stream",
     "text": [
      "3 1\n"
     ]
    }
   ],
   "source": [
    "# Assignments\n",
    "x = y = \"hello\"\n",
    "\n",
    "x,y = 5,'hello' # YES! YES! YES!\n",
    "\n",
    "def my_divmod(x, y):\n",
    "    return x/y, x % y\n",
    "\n",
    "a, b = my_divmod(10, 3)\n",
    "print a,b"
   ]
  },
  {
   "cell_type": "code",
   "execution_count": 16,
   "metadata": {
    "collapsed": false
   },
   "outputs": [
    {
     "name": "stdout",
     "output_type": "stream",
     "text": [
      "0\n",
      "1\n",
      "2\n",
      "3\n",
      "4\n",
      "5\n",
      "6\n",
      "7\n",
      "8\n",
      "9\n"
     ]
    }
   ],
   "source": [
    "for i in range(10):\n",
    "    print i"
   ]
  },
  {
   "cell_type": "code",
   "execution_count": 17,
   "metadata": {
    "collapsed": false
   },
   "outputs": [
    {
     "name": "stdout",
     "output_type": "stream",
     "text": [
      "1 A a <=== Start\n",
      "2 B b\n",
      "3 C c\n",
      "4 D d\n",
      "5 E e\n",
      "6 F f\n",
      "7 G g\n",
      "8 H h\n",
      "9 I i <=== End\n",
      "ZERO\n",
      "FINALLE!!!\n"
     ]
    }
   ],
   "source": [
    "# if, elif, else, for, while - that's it\n",
    "i=1\n",
    "while i < 10:\n",
    "    for c in (0x30, 0x40, 0x60):\n",
    "        print chr(i + c),\n",
    "    \n",
    "    if i == 1:\n",
    "        print '<=== Start'\n",
    "    elif i == 9:\n",
    "        print '<=== End'\n",
    "    else: \n",
    "        print\n",
    "    \n",
    "    i += 1\n",
    "\n",
    "# Try, except\n",
    "try:       1/0\n",
    "except:    pass\n",
    "\n",
    "try:\n",
    "    i = ['a'][100/0]\n",
    "except IndexError, e:\n",
    "    print e, `e`, type(e)\n",
    "except ZeroDivisionError:\n",
    "    print 'ZERO'\n",
    "print 'FINALLE!!!'"
   ]
  },
  {
   "cell_type": "code",
   "execution_count": 18,
   "metadata": {
    "collapsed": false
   },
   "outputs": [
    {
     "name": "stdout",
     "output_type": "stream",
     "text": [
      "True True\n",
      "[1, 2, 3] [1, 2, 3]\n",
      "True False\n"
     ]
    }
   ],
   "source": [
    "# Memory & variables\n",
    "\n",
    "# Referrences, Reference counting\n",
    "x = [1,2,3]\n",
    "y = x\n",
    "print x==y, x is y\n",
    "\n",
    "import copy\n",
    "y=copy.copy(x)\n",
    "print x, y\n",
    "print x==y, x is y"
   ]
  },
  {
   "cell_type": "code",
   "execution_count": 19,
   "metadata": {
    "collapsed": false
   },
   "outputs": [
    {
     "name": "stdout",
     "output_type": "stream",
     "text": [
      "hello world\n",
      "(1,)\n",
      "(1, 2, 3, 4, 5)\n"
     ]
    }
   ],
   "source": [
    "# Immutable - int/long/float/bool, string, tuple - 5, 'hello', (1,2,3)\n",
    "s = 'hello'\n",
    "s += ' world'\n",
    "print s\n",
    "\n",
    "l = 1,\n",
    "print l\n",
    "l += (2, 3)\n",
    "l += 4, 5\n",
    "print l"
   ]
  },
  {
   "cell_type": "code",
   "execution_count": 20,
   "metadata": {
    "collapsed": false
   },
   "outputs": [
    {
     "name": "stdout",
     "output_type": "stream",
     "text": [
      "0\n",
      "1\n",
      "2\n",
      "[0, 1, 2, 3, 4, 5, 6, 7, 8, 9, 42] True\n"
     ]
    }
   ],
   "source": [
    "# Mutable - Lists, Dictionaries, Objects\n",
    "l = range(10)\n",
    "for i in range(3):\n",
    "    print i\n",
    "l2 = l\n",
    "l.append(42)\n",
    "print l2,  l2 is l"
   ]
  },
  {
   "cell_type": "code",
   "execution_count": 21,
   "metadata": {
    "collapsed": false
   },
   "outputs": [
    {
     "name": "stdout",
     "output_type": "stream",
     "text": [
      "True [0, 1, 2, 3, 4, 5, 6, 7, 8, 9, 42, 'Another', ' ', 'o', 'n', 'e', ' ', 'b', 'y', 't', 'e', 's']\n",
      "H\n",
      "E\n",
      "L\n",
      "L\n",
      "O\n",
      "!\n",
      "!\n",
      "!\n"
     ]
    }
   ],
   "source": [
    "l.append('Another')\n",
    "l += ' one bytes'\n",
    "\n",
    "print l2 is l, l\n",
    "\n",
    "for c in 'HELLO!!!': print c"
   ]
  },
  {
   "cell_type": "code",
   "execution_count": 22,
   "metadata": {
    "collapsed": false
   },
   "outputs": [
    {
     "name": "stdout",
     "output_type": "stream",
     "text": [
      "False [0, 1, 2, 3, 4, 5, 6, 7, 8, 9, 42, 'Another', ' ', 'o', 'n', 'e', ' ', 'b', 'y', 't', 'e', 's', ' the dust']\n"
     ]
    }
   ],
   "source": [
    "l = l + [' the dust']\n",
    "print l2 is l, l"
   ]
  },
  {
   "cell_type": "code",
   "execution_count": 23,
   "metadata": {
    "collapsed": false
   },
   "outputs": [
    {
     "name": "stdout",
     "output_type": "stream",
     "text": [
      "1 2 3 (4, 5) {'answer': 42, 'question': 'good'}\n"
     ]
    }
   ],
   "source": [
    "def f(a, b, c=5, d='hi',e=[]):\n",
    "    e.append(a)\n",
    "    return b+c\n",
    "\n",
    "f(1,2,e=[4,5], d='bye')\n",
    "\n",
    "# * means a list\n",
    "# ** means a dictionary\n",
    "\n",
    "def f(x, y, y2=9, *z, **w):\n",
    "    print x, y, y2, z, w\n",
    "    # return None\n",
    "\n",
    "f(1, 2, 3, 4, 5, answer=42, question='good')"
   ]
  },
  {
   "cell_type": "code",
   "execution_count": 24,
   "metadata": {
    "collapsed": false
   },
   "outputs": [
    {
     "name": "stdout",
     "output_type": "stream",
     "text": [
      "  ____ _                         \n",
      " / ___| | __ _ ___ ___  ___  ___ \n",
      "| |   | |/ _` / __/ __|/ _ \\/ __|\n",
      "| |___| | (_| \\__ \\__ \\  __/\\__ \\\n",
      " \\____|_|\\__,_|___/___/\\___||___/\n",
      "                                 \n",
      "\n"
     ]
    }
   ],
   "source": [
    "print '20205f5f5f5f205f202020202020202020202020202020202020202020202020200a202f205f5f5f7c207c205f5f205f205f5f5f205f5f5f20205f5f5f20205f5f5f200a7c207c2020207c207c2f205f60202f205f5f2f205f5f7c2f205f205c2f205f5f7c0a7c207c5f5f5f7c207c20285f7c205c5f5f205c5f5f205c20205f5f2f5c5f5f205c0a205c5f5f5f5f7c5f7c5c5f5f2c5f7c5f5f5f2f5f5f5f2f5c5f5f5f7c7c5f5f5f2f0a2020202020202020202020202020202020202020202020202020202020202020200a' \\\n",
    ".decode('hex')"
   ]
  },
  {
   "cell_type": "code",
   "execution_count": 28,
   "metadata": {
    "collapsed": false
   },
   "outputs": [
    {
     "name": "stdout",
     "output_type": "stream",
     "text": [
      "0 \n",
      "1 * \n",
      "2 * * \n",
      "3 * * * \n",
      "4 * * * * \n",
      "5 * * * * * \n",
      "6 * * * * * * \n",
      "7 * * * * * * * \n",
      "8 * * * * * * * * \n",
      "9 * * * * * * * * * \n"
     ]
    }
   ],
   "source": [
    "import time\n",
    "import threading\n",
    "\n",
    "class my_thread(threading.Thread):\n",
    "    # Constructore\n",
    "    def __init__(self, x):\n",
    "        threading.Thread.__init__(self, name='Test')\n",
    "        self.x = x\n",
    "    \n",
    "    def run(self):\n",
    "        for i in range(self.x):\n",
    "            print i, '* ' * i\n",
    "            time.sleep(1)\n",
    "\n",
    "t = my_thread(10)\n",
    "t.start()"
   ]
  }
 ],
 "metadata": {
  "kernelspec": {
   "display_name": "Python 2",
   "language": "python",
   "name": "python2"
  },
  "language_info": {
   "codemirror_mode": {
    "name": "ipython",
    "version": 2
   },
   "file_extension": ".py",
   "mimetype": "text/x-python",
   "name": "python",
   "nbconvert_exporter": "python",
   "pygments_lexer": "ipython2",
   "version": "2.7.11"
  }
 },
 "nbformat": 4,
 "nbformat_minor": 0
}
